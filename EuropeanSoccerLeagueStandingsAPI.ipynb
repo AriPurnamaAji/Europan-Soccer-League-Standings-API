{
 "cells": [
  {
   "cell_type": "markdown",
   "metadata": {},
   "source": [
    "## Europan Soccer League Standings API"
   ]
  },
  {
   "cell_type": "code",
   "execution_count": 17,
   "metadata": {
    "colab": {},
    "colab_type": "code",
    "id": "16f9g1bA_pIf"
   },
   "outputs": [],
   "source": [
    "import http.client\n",
    "import json\n",
    "from IPython.display import Image, display"
   ]
  },
  {
   "cell_type": "code",
   "execution_count": 18,
   "metadata": {
    "colab": {},
    "colab_type": "code",
    "id": "A3lp7SBgPCHs"
   },
   "outputs": [],
   "source": [
    "def show_svg(url):\n",
    "    display(Image(url=url, width=100, height=100))"
   ]
  },
  {
   "cell_type": "code",
   "execution_count": 19,
   "metadata": {
    "colab": {},
    "colab_type": "code",
    "id": "92aPEVXLACYF"
   },
   "outputs": [],
   "source": [
    "connection = http.client.HTTPConnection('api.football-data.org')\n",
    "headers = {'X-Auth-Token': 'd2d9637172854a89bf4256ca12bcac86'}\n",
    "    \n",
    "def standings(id, connection=connection, headers=headers):\n",
    "    connection.request('GET', '/v2/competitions/{}/standings'.format(id), None, headers)\n",
    "    response = json.loads(connection.getresponse().read().decode())\n",
    "    return response\n",
    "\n",
    "def scorers(id, connection=connection, headers=headers):\n",
    "    connection.request('GET', '/v2/competitions/{}/scorers'.format(id), None, headers)\n",
    "    response = json.loads(connection.getresponse().read().decode())\n",
    "    return response\n",
    "\n",
    "def teams(id, connection=connection, headers=headers):\n",
    "    connection.request('GET', '/v2/teams/{}'.format(id), None, headers)\n",
    "    response = json.loads(connection.getresponse().read().decode())\n",
    "    return response\n",
    "\n",
    "list_id_liga = ['BL1', 'PL', 'SA', 'PD', 'FL1']"
   ]
  },
  {
   "cell_type": "code",
   "execution_count": 20,
   "metadata": {
    "colab": {},
    "colab_type": "code",
    "id": "JVWCMq2wAHUo"
   },
   "outputs": [],
   "source": [
    "def standings_league_info(league):\n",
    "    code = ''\n",
    "    count = 1\n",
    "    league_found = False\n",
    "    if league.lower() == 'bundesliga' or league.lower() == 'bundes liga':\n",
    "        code = list_id_liga[0]\n",
    "        league_found = True\n",
    "    elif league.lower() == 'premiere league' or league.lower() == 'premier league':\n",
    "        code = list_id_liga[1]\n",
    "        league_found = True\n",
    "    elif league.lower() == 'serie a' or league.lower() == 'seri a':\n",
    "        code = list_id_liga[2]\n",
    "        league_found = True\n",
    "    elif league.lower() == 'primera division' or league.lower() == 'primera divisi':\n",
    "        code = list_id_liga[3]\n",
    "        league_found = True\n",
    "    elif league.lower() == 'ligue 1' or league.lower() == 'league 1':\n",
    "        code = list_id_liga[4]\n",
    "        league_found = True\n",
    "\n",
    "    if league_found == True:\n",
    "        klasemen = standings(code)\n",
    "        league_name = \"League name : \" + klasemen['competition']['name'] + '\\n' + '-------------------------------'\n",
    "        standings_table = klasemen['standings'][0]['table']\n",
    "        print(league_name)\n",
    "        for teams in standings_table:\n",
    "            print(str(count) + \") \" + teams['team']['name'])\n",
    "            show_svg(teams['team']['crestUrl'])\n",
    "            print('    Played games = ' + str(teams['playedGames']) + '\\n' +\n",
    "                  '    Won = ' + str(teams['won']) + '\\n' +\n",
    "                  '    Draw = ' + str(teams['draw']) + '\\n' +\n",
    "                  '    Lost = ' + str(teams['lost']) + '\\n' +\n",
    "                  '    Points = ' + str(teams['points']) + '\\n' +\n",
    "                  '    Goals for = ' + str(teams['goalsFor']) + '\\n' +\n",
    "                  '    Goals against = ' + str(teams['goalsAgainst']) + '\\n' +\n",
    "                  '    Goal difference = ' + str(teams['goalDifference']) + '\\n' + '\\n')\n",
    "            count += 1\n",
    "    elif league_found == False:\n",
    "        error = \"League Not Found\"\n",
    "        print(error)"
   ]
  },
  {
   "cell_type": "code",
   "execution_count": 21,
   "metadata": {
    "colab": {},
    "colab_type": "code",
    "id": "v7jP_Xovb3N1"
   },
   "outputs": [],
   "source": [
    "def top_3_teams_in_all_league():\n",
    "    print(\"The top 3 teams in each league:\" + '\\n')\n",
    "    for code in list_id_liga:\n",
    "        klasemen = standings(code)\n",
    "        league_name = \"League name : \" + klasemen['competition']['name'] + '\\n' + '-------------------------------'\n",
    "        klasemen = klasemen['standings'][0]['table']\n",
    "        print(league_name)\n",
    "        for i in range (3):\n",
    "            print(str(klasemen[i]['position']) + \") \" + klasemen[i]['team']['name'])\n",
    "            show_svg(klasemen[i]['team']['crestUrl'])\n",
    "            print('    Played games = ' + str(klasemen[i]['playedGames']) + '\\n' +\n",
    "                '    Won = ' + str(klasemen[i]['won']) + '\\n' +\n",
    "                '    Draw = ' + str(klasemen[i]['draw']) + '\\n' +\n",
    "                '    Lost = ' + str(klasemen[i]['lost']) + '\\n' +\n",
    "                '    Points = ' + str(klasemen[i]['points']) + '\\n' +\n",
    "                '    Goals for = ' + str(klasemen[i]['goalsFor']) + '\\n' +\n",
    "                '    Goals against = ' + str(klasemen[i]['goalsAgainst']) + '\\n' +\n",
    "                '    Goal difference = ' + str(klasemen[i]['goalDifference']) + '\\n' + '\\n')"
   ]
  },
  {
   "cell_type": "code",
   "execution_count": 22,
   "metadata": {
    "colab": {},
    "colab_type": "code",
    "id": "rNb5VRciAVLI"
   },
   "outputs": [],
   "source": [
    "def team_info(club):\n",
    "    team_found = False\n",
    "    for code in list_id_liga:\n",
    "        klasemen = standings(code)\n",
    "        league_name = \"League name : \" + klasemen['competition']['name'] + '\\n' + '-------------------------------'\n",
    "        klasemen = klasemen['standings'][0]['table']\n",
    "        for team in klasemen:\n",
    "            if club.lower() in team['team']['name'].lower():\n",
    "                team_found = True\n",
    "                print(league_name)\n",
    "                print(str(team['position']) + \") \" + team['team']['name'])\n",
    "                show_svg(team['team']['crestUrl'])\n",
    "                print('    Played games = ' + str(team['playedGames']) + '\\n' +\n",
    "                      '    Won = ' + str(team['won']) + '\\n' +\n",
    "                      '    Draw = ' + str(team['draw']) + '\\n' +\n",
    "                      '    Lost = ' + str(team['lost']) + '\\n' +\n",
    "                      '    Points = ' + str(team['points']) + '\\n' +\n",
    "                      '    Goals for = ' + str(team['goalsFor']) + '\\n' +\n",
    "                      '    Goals against = ' + str(team['goalsAgainst']) + '\\n' +\n",
    "                      '    Goal difference = ' + str(team['goalDifference']) + '\\n' + '\\n')\n",
    "\n",
    "        if team_found == True:\n",
    "            break\n",
    "\n",
    "    if team_found == False:\n",
    "        print(\"Team Not Found\")"
   ]
  },
  {
   "cell_type": "code",
   "execution_count": 23,
   "metadata": {
    "colab": {},
    "colab_type": "code",
    "id": "KG0EcB130Z2m"
   },
   "outputs": [],
   "source": [
    "def get_top_scores_in_league(league):\n",
    "    kode = ''\n",
    "    count = 1\n",
    "    league_found = False\n",
    "    if league.lower() == 'bundesliga' or league.lower() == 'bundes liga':\n",
    "        kode = list_id_liga[0]\n",
    "        league_found = True\n",
    "    elif league.lower() == 'premiere league' or league.lower() == 'premier league':\n",
    "        kode = list_id_liga[1]\n",
    "        league_found = True\n",
    "    elif league.lower() == 'serie a' or league.lower() == 'seri a':\n",
    "        kode = list_id_liga[2]\n",
    "        league_found = True\n",
    "    elif league.lower() == 'primera division' or league.lower() == 'primera divisi':\n",
    "        kode = list_id_liga[3]\n",
    "        league_found = True\n",
    "    elif league.lower() == 'ligue 1' or league.lower() == 'league 1':\n",
    "        kode = list_id_liga[4]\n",
    "        league_found = True\n",
    "\n",
    "    if league_found == True:\n",
    "        top_scorers = scorers(kode)\n",
    "        print(\"The top scorers in \" + top_scorers['competition']['name'] + \" :\" + '\\n' + '---------------------------------')\n",
    "        table_scorers = top_scorers['scorers']\n",
    "        count = 1\n",
    "        for player in table_scorers:\n",
    "            print(str(count) + \") \" + player['player']['name'] + '\\n' +\n",
    "                  \"   Team : \" + player['team']['name'] + '\\n' +\n",
    "                  \"   Position : \" + player['player']['position'] + '\\n' +\n",
    "                  \"   Nationality : \" + player['player']['nationality'] + '\\n' +\n",
    "                  \"   Number of goals : \" + str(player['numberOfGoals']) + '\\n')\n",
    "            # print(nama, total_gol)\n",
    "            count +=1\n",
    "    elif league_found == False:\n",
    "        error = \"League Not Found\"\n",
    "        print(error)"
   ]
  },
  {
   "cell_type": "code",
   "execution_count": 24,
   "metadata": {
    "colab": {},
    "colab_type": "code",
    "id": "1cKBVXLP1iBK"
   },
   "outputs": [],
   "source": [
    "def get_top_3_scores_in_all_league():\n",
    "    print(\"The top 3 scorers in each league:\" + '\\n')\n",
    "    for code in list_id_liga:\n",
    "        count = 1\n",
    "        klasemen = scorers(code)\n",
    "        league_name = \"League name : \" + klasemen['competition']['name'] + '\\n' + '-------------------------------'\n",
    "        klasemen = klasemen['scorers']\n",
    "        print(league_name)\n",
    "        for i in range (3):\n",
    "            print(str(count) + \") \" + klasemen[i]['player']['name'] + '\\n'\n",
    "                  \"   Team : \" + klasemen[i]['team']['name'] + '\\n' +\n",
    "                  \"   Position : \" + klasemen[i]['player']['position'] + '\\n' +\n",
    "                  \"   Nationality : \" + klasemen[i]['player']['nationality'] + '\\n' +\n",
    "                  \"   Number of goals : \" + str(klasemen[i]['numberOfGoals']) + '\\n')\n",
    "            count += 1\n",
    "        print(\"\")"
   ]
  },
  {
   "cell_type": "code",
   "execution_count": 25,
   "metadata": {
    "colab": {
     "base_uri": "https://localhost:8080/",
     "height": 1000
    },
    "colab_type": "code",
    "id": "MQS8yqnzaGzn",
    "outputId": "3cf30f8b-bb7e-452b-c2dc-93dd184cca05"
   },
   "outputs": [
    {
     "name": "stdout",
     "output_type": "stream",
     "text": [
      "League name : Ligue 1\n",
      "-------------------------------\n",
      "1) Paris Saint-Germain FC\n"
     ]
    },
    {
     "data": {
      "text/html": [
       "<img src=\"https://upload.wikimedia.org/wikipedia/en/a/a7/Paris_Saint-Germain_F.C..svg\" width=\"100\" height=\"100\"/>"
      ],
      "text/plain": [
       "<IPython.core.display.Image object>"
      ]
     },
     "metadata": {},
     "output_type": "display_data"
    },
    {
     "name": "stdout",
     "output_type": "stream",
     "text": [
      "    Played games = 27\n",
      "    Won = 22\n",
      "    Draw = 2\n",
      "    Lost = 3\n",
      "    Points = 68\n",
      "    Goals for = 75\n",
      "    Goals against = 24\n",
      "    Goal difference = 51\n",
      "\n",
      "\n",
      "2) Olympique de Marseille\n"
     ]
    },
    {
     "data": {
      "text/html": [
       "<img src=\"https://upload.wikimedia.org/wikipedia/fr/thumb/4/43/Logo_Olympique_de_Marseille.svg/130px-Logo_Olympique_de_Marseille.svg.png\" width=\"100\" height=\"100\"/>"
      ],
      "text/plain": [
       "<IPython.core.display.Image object>"
      ]
     },
     "metadata": {},
     "output_type": "display_data"
    },
    {
     "name": "stdout",
     "output_type": "stream",
     "text": [
      "    Played games = 28\n",
      "    Won = 16\n",
      "    Draw = 8\n",
      "    Lost = 4\n",
      "    Points = 56\n",
      "    Goals for = 41\n",
      "    Goals against = 29\n",
      "    Goal difference = 12\n",
      "\n",
      "\n",
      "3) Stade Rennais FC 1901\n"
     ]
    },
    {
     "data": {
      "text/html": [
       "<img src=\"https://upload.wikimedia.org/wikipedia/fr/e/e9/Logo_Stade_Rennais_FC.svg\" width=\"100\" height=\"100\"/>"
      ],
      "text/plain": [
       "<IPython.core.display.Image object>"
      ]
     },
     "metadata": {},
     "output_type": "display_data"
    },
    {
     "name": "stdout",
     "output_type": "stream",
     "text": [
      "    Played games = 28\n",
      "    Won = 15\n",
      "    Draw = 5\n",
      "    Lost = 8\n",
      "    Points = 50\n",
      "    Goals for = 38\n",
      "    Goals against = 24\n",
      "    Goal difference = 14\n",
      "\n",
      "\n",
      "4) Lille OSC\n"
     ]
    },
    {
     "data": {
      "text/html": [
       "<img src=\"https://upload.wikimedia.org/wikipedia/fr/6/62/Logo_LOSC_Lille_2018.svg\" width=\"100\" height=\"100\"/>"
      ],
      "text/plain": [
       "<IPython.core.display.Image object>"
      ]
     },
     "metadata": {},
     "output_type": "display_data"
    },
    {
     "name": "stdout",
     "output_type": "stream",
     "text": [
      "    Played games = 28\n",
      "    Won = 15\n",
      "    Draw = 4\n",
      "    Lost = 9\n",
      "    Points = 49\n",
      "    Goals for = 35\n",
      "    Goals against = 27\n",
      "    Goal difference = 8\n",
      "\n",
      "\n",
      "5) Stade de Reims\n"
     ]
    },
    {
     "data": {
      "text/html": [
       "<img src=\"https://upload.wikimedia.org/wikipedia/de/9/9e/Stade_Reims_Logo.svg\" width=\"100\" height=\"100\"/>"
      ],
      "text/plain": [
       "<IPython.core.display.Image object>"
      ]
     },
     "metadata": {},
     "output_type": "display_data"
    },
    {
     "name": "stdout",
     "output_type": "stream",
     "text": [
      "    Played games = 28\n",
      "    Won = 10\n",
      "    Draw = 11\n",
      "    Lost = 7\n",
      "    Points = 41\n",
      "    Goals for = 26\n",
      "    Goals against = 21\n",
      "    Goal difference = 5\n",
      "\n",
      "\n",
      "6) OGC Nice\n"
     ]
    },
    {
     "data": {
      "text/html": [
       "<img src=\"https://upload.wikimedia.org/wikipedia/en/2/2e/OGC_Nice_logo.svg\" width=\"100\" height=\"100\"/>"
      ],
      "text/plain": [
       "<IPython.core.display.Image object>"
      ]
     },
     "metadata": {},
     "output_type": "display_data"
    },
    {
     "name": "stdout",
     "output_type": "stream",
     "text": [
      "    Played games = 28\n",
      "    Won = 11\n",
      "    Draw = 8\n",
      "    Lost = 9\n",
      "    Points = 41\n",
      "    Goals for = 41\n",
      "    Goals against = 38\n",
      "    Goal difference = 3\n",
      "\n",
      "\n",
      "7) Olympique Lyonnais\n"
     ]
    },
    {
     "data": {
      "text/html": [
       "<img src=\"https://upload.wikimedia.org/wikipedia/de/f/f1/Olympique_Lyon.svg\" width=\"100\" height=\"100\"/>"
      ],
      "text/plain": [
       "<IPython.core.display.Image object>"
      ]
     },
     "metadata": {},
     "output_type": "display_data"
    },
    {
     "name": "stdout",
     "output_type": "stream",
     "text": [
      "    Played games = 28\n",
      "    Won = 11\n",
      "    Draw = 7\n",
      "    Lost = 10\n",
      "    Points = 40\n",
      "    Goals for = 42\n",
      "    Goals against = 27\n",
      "    Goal difference = 15\n",
      "\n",
      "\n",
      "8) Montpellier HSC\n"
     ]
    },
    {
     "data": {
      "text/html": [
       "<img src=\"https://upload.wikimedia.org/wikipedia/en/a/a8/Montpellier_HSC_logo.svg\" width=\"100\" height=\"100\"/>"
      ],
      "text/plain": [
       "<IPython.core.display.Image object>"
      ]
     },
     "metadata": {},
     "output_type": "display_data"
    },
    {
     "name": "stdout",
     "output_type": "stream",
     "text": [
      "    Played games = 28\n",
      "    Won = 11\n",
      "    Draw = 7\n",
      "    Lost = 10\n",
      "    Points = 40\n",
      "    Goals for = 35\n",
      "    Goals against = 34\n",
      "    Goal difference = 1\n",
      "\n",
      "\n",
      "9) AS Monaco FC\n"
     ]
    },
    {
     "data": {
      "text/html": [
       "<img src=\"https://upload.wikimedia.org/wikipedia/en/b/ba/AS_Monaco_FC.svg\" width=\"100\" height=\"100\"/>"
      ],
      "text/plain": [
       "<IPython.core.display.Image object>"
      ]
     },
     "metadata": {},
     "output_type": "display_data"
    },
    {
     "name": "stdout",
     "output_type": "stream",
     "text": [
      "    Played games = 28\n",
      "    Won = 11\n",
      "    Draw = 7\n",
      "    Lost = 10\n",
      "    Points = 40\n",
      "    Goals for = 44\n",
      "    Goals against = 44\n",
      "    Goal difference = 0\n",
      "\n",
      "\n",
      "10) Angers SCO\n"
     ]
    },
    {
     "data": {
      "text/html": [
       "<img src=\"https://upload.wikimedia.org/wikipedia/en/d/d4/Angers_SCO_logo.svg\" width=\"100\" height=\"100\"/>"
      ],
      "text/plain": [
       "<IPython.core.display.Image object>"
      ]
     },
     "metadata": {},
     "output_type": "display_data"
    },
    {
     "name": "stdout",
     "output_type": "stream",
     "text": [
      "    Played games = 28\n",
      "    Won = 11\n",
      "    Draw = 6\n",
      "    Lost = 11\n",
      "    Points = 39\n",
      "    Goals for = 28\n",
      "    Goals against = 33\n",
      "    Goal difference = -5\n",
      "\n",
      "\n",
      "11) RC Strasbourg Alsace\n"
     ]
    },
    {
     "data": {
      "text/html": [
       "<img src=\"https://upload.wikimedia.org/wikipedia/en/8/80/Racing_Club_de_Strasbourg_logo.svg\" width=\"100\" height=\"100\"/>"
      ],
      "text/plain": [
       "<IPython.core.display.Image object>"
      ]
     },
     "metadata": {},
     "output_type": "display_data"
    },
    {
     "name": "stdout",
     "output_type": "stream",
     "text": [
      "    Played games = 27\n",
      "    Won = 11\n",
      "    Draw = 5\n",
      "    Lost = 11\n",
      "    Points = 38\n",
      "    Goals for = 32\n",
      "    Goals against = 32\n",
      "    Goal difference = 0\n",
      "\n",
      "\n",
      "12) FC Girondins de Bordeaux\n"
     ]
    },
    {
     "data": {
      "text/html": [
       "<img src=\"https://upload.wikimedia.org/wikipedia/de/e/ea/Girondins_Bordeaux_Logo.svg\" width=\"100\" height=\"100\"/>"
      ],
      "text/plain": [
       "<IPython.core.display.Image object>"
      ]
     },
     "metadata": {},
     "output_type": "display_data"
    },
    {
     "name": "stdout",
     "output_type": "stream",
     "text": [
      "    Played games = 28\n",
      "    Won = 9\n",
      "    Draw = 10\n",
      "    Lost = 9\n",
      "    Points = 37\n",
      "    Goals for = 40\n",
      "    Goals against = 34\n",
      "    Goal difference = 6\n",
      "\n",
      "\n",
      "13) FC Nantes\n"
     ]
    },
    {
     "data": {
      "text/html": [
       "<img src=\"https://upload.wikimedia.org/wikipedia/commons/5/5c/FC_Nantes_2019_logo.svg\" width=\"100\" height=\"100\"/>"
      ],
      "text/plain": [
       "<IPython.core.display.Image object>"
      ]
     },
     "metadata": {},
     "output_type": "display_data"
    },
    {
     "name": "stdout",
     "output_type": "stream",
     "text": [
      "    Played games = 28\n",
      "    Won = 11\n",
      "    Draw = 4\n",
      "    Lost = 13\n",
      "    Points = 37\n",
      "    Goals for = 28\n",
      "    Goals against = 31\n",
      "    Goal difference = -3\n",
      "\n",
      "\n",
      "14) Stade Brestois 29\n"
     ]
    },
    {
     "data": {
      "text/html": [
       "<img src=\"http://upload.wikimedia.org/wikipedia/de/c/cb/Stade_Brestois_29.svg\" width=\"100\" height=\"100\"/>"
      ],
      "text/plain": [
       "<IPython.core.display.Image object>"
      ]
     },
     "metadata": {},
     "output_type": "display_data"
    },
    {
     "name": "stdout",
     "output_type": "stream",
     "text": [
      "    Played games = 28\n",
      "    Won = 8\n",
      "    Draw = 10\n",
      "    Lost = 10\n",
      "    Points = 34\n",
      "    Goals for = 34\n",
      "    Goals against = 37\n",
      "    Goal difference = -3\n",
      "\n",
      "\n",
      "15) FC Metz\n"
     ]
    },
    {
     "data": {
      "text/html": [
       "<img src=\"http://upload.wikimedia.org/wikipedia/de/b/ba/FC_Metz_Logo.svg\" width=\"100\" height=\"100\"/>"
      ],
      "text/plain": [
       "<IPython.core.display.Image object>"
      ]
     },
     "metadata": {},
     "output_type": "display_data"
    },
    {
     "name": "stdout",
     "output_type": "stream",
     "text": [
      "    Played games = 28\n",
      "    Won = 8\n",
      "    Draw = 10\n",
      "    Lost = 10\n",
      "    Points = 34\n",
      "    Goals for = 27\n",
      "    Goals against = 35\n",
      "    Goal difference = -8\n",
      "\n",
      "\n",
      "16) Dijon Football Côte d'Or\n"
     ]
    },
    {
     "data": {
      "text/html": [
       "<img src=\"https://upload.wikimedia.org/wikipedia/en/f/f7/Dijon_FCO_logo.svg\" width=\"100\" height=\"100\"/>"
      ],
      "text/plain": [
       "<IPython.core.display.Image object>"
      ]
     },
     "metadata": {},
     "output_type": "display_data"
    },
    {
     "name": "stdout",
     "output_type": "stream",
     "text": [
      "    Played games = 28\n",
      "    Won = 7\n",
      "    Draw = 9\n",
      "    Lost = 12\n",
      "    Points = 30\n",
      "    Goals for = 27\n",
      "    Goals against = 37\n",
      "    Goal difference = -10\n",
      "\n",
      "\n",
      "17) AS Saint-Étienne\n"
     ]
    },
    {
     "data": {
      "text/html": [
       "<img src=\"https://upload.wikimedia.org/wikipedia/commons/thumb/2/2c/Logo_AS_Saint-%C3%89tienne.svg/130px-Logo_AS_Saint-%C3%89tienne.svg.png\" width=\"100\" height=\"100\"/>"
      ],
      "text/plain": [
       "<IPython.core.display.Image object>"
      ]
     },
     "metadata": {},
     "output_type": "display_data"
    },
    {
     "name": "stdout",
     "output_type": "stream",
     "text": [
      "    Played games = 28\n",
      "    Won = 8\n",
      "    Draw = 6\n",
      "    Lost = 14\n",
      "    Points = 30\n",
      "    Goals for = 29\n",
      "    Goals against = 45\n",
      "    Goal difference = -16\n",
      "\n",
      "\n",
      "18) Nîmes Olympique\n"
     ]
    },
    {
     "data": {
      "text/html": [
       "<img src=\"https://upload.wikimedia.org/wikipedia/fr/f/f0/N%C3%AEmes_Olympique_logo_2018.svg\" width=\"100\" height=\"100\"/>"
      ],
      "text/plain": [
       "<IPython.core.display.Image object>"
      ]
     },
     "metadata": {},
     "output_type": "display_data"
    },
    {
     "name": "stdout",
     "output_type": "stream",
     "text": [
      "    Played games = 28\n",
      "    Won = 7\n",
      "    Draw = 6\n",
      "    Lost = 15\n",
      "    Points = 27\n",
      "    Goals for = 29\n",
      "    Goals against = 44\n",
      "    Goal difference = -15\n",
      "\n",
      "\n",
      "19) Amiens SC\n"
     ]
    },
    {
     "data": {
      "text/html": [
       "<img src=\"https://upload.wikimedia.org/wikipedia/en/f/f6/Amiens_SC_Logo.svg\" width=\"100\" height=\"100\"/>"
      ],
      "text/plain": [
       "<IPython.core.display.Image object>"
      ]
     },
     "metadata": {},
     "output_type": "display_data"
    },
    {
     "name": "stdout",
     "output_type": "stream",
     "text": [
      "    Played games = 28\n",
      "    Won = 4\n",
      "    Draw = 11\n",
      "    Lost = 13\n",
      "    Points = 23\n",
      "    Goals for = 31\n",
      "    Goals against = 50\n",
      "    Goal difference = -19\n",
      "\n",
      "\n",
      "20) Toulouse FC\n"
     ]
    },
    {
     "data": {
      "text/html": [
       "<img src=\"https://upload.wikimedia.org/wikipedia/de/0/0a/FC_Toulouse_Logo.svg\" width=\"100\" height=\"100\"/>"
      ],
      "text/plain": [
       "<IPython.core.display.Image object>"
      ]
     },
     "metadata": {},
     "output_type": "display_data"
    },
    {
     "name": "stdout",
     "output_type": "stream",
     "text": [
      "    Played games = 28\n",
      "    Won = 3\n",
      "    Draw = 4\n",
      "    Lost = 21\n",
      "    Points = 13\n",
      "    Goals for = 22\n",
      "    Goals against = 58\n",
      "    Goal difference = -36\n",
      "\n",
      "\n"
     ]
    }
   ],
   "source": [
    "# Get standings info in specific league\n",
    "standings_league_info('ligue 1')"
   ]
  },
  {
   "cell_type": "code",
   "execution_count": 26,
   "metadata": {
    "colab": {
     "base_uri": "https://localhost:8080/",
     "height": 1000
    },
    "colab_type": "code",
    "id": "j7UNx1ZRhns9",
    "outputId": "8577c410-381e-475e-e1d1-840290e8a5db"
   },
   "outputs": [
    {
     "name": "stdout",
     "output_type": "stream",
     "text": [
      "The top 3 teams in each league:\n",
      "\n",
      "League name : Bundesliga\n",
      "-------------------------------\n",
      "1) FC Bayern München\n"
     ]
    },
    {
     "data": {
      "text/html": [
       "<img src=\"https://upload.wikimedia.org/wikipedia/commons/1/1b/FC_Bayern_M%C3%BCnchen_logo_%282017%29.svg\" width=\"100\" height=\"100\"/>"
      ],
      "text/plain": [
       "<IPython.core.display.Image object>"
      ]
     },
     "metadata": {},
     "output_type": "display_data"
    },
    {
     "name": "stdout",
     "output_type": "stream",
     "text": [
      "    Played games = 34\n",
      "    Won = 26\n",
      "    Draw = 4\n",
      "    Lost = 4\n",
      "    Points = 82\n",
      "    Goals for = 100\n",
      "    Goals against = 32\n",
      "    Goal difference = 68\n",
      "\n",
      "\n",
      "2) BV Borussia 09 Dortmund\n"
     ]
    },
    {
     "data": {
      "text/html": [
       "<img src=\"http://upload.wikimedia.org/wikipedia/commons/6/67/Borussia_Dortmund_logo.svg\" width=\"100\" height=\"100\"/>"
      ],
      "text/plain": [
       "<IPython.core.display.Image object>"
      ]
     },
     "metadata": {},
     "output_type": "display_data"
    },
    {
     "name": "stdout",
     "output_type": "stream",
     "text": [
      "    Played games = 34\n",
      "    Won = 21\n",
      "    Draw = 6\n",
      "    Lost = 7\n",
      "    Points = 69\n",
      "    Goals for = 84\n",
      "    Goals against = 41\n",
      "    Goal difference = 43\n",
      "\n",
      "\n",
      "3) RB Leipzig\n"
     ]
    },
    {
     "data": {
      "text/html": [
       "<img src=\"https://upload.wikimedia.org/wikipedia/en/0/04/RB_Leipzig_2014_logo.svg\" width=\"100\" height=\"100\"/>"
      ],
      "text/plain": [
       "<IPython.core.display.Image object>"
      ]
     },
     "metadata": {},
     "output_type": "display_data"
    },
    {
     "name": "stdout",
     "output_type": "stream",
     "text": [
      "    Played games = 34\n",
      "    Won = 18\n",
      "    Draw = 12\n",
      "    Lost = 4\n",
      "    Points = 66\n",
      "    Goals for = 81\n",
      "    Goals against = 37\n",
      "    Goal difference = 44\n",
      "\n",
      "\n",
      "League name : Premier League\n",
      "-------------------------------\n",
      "1) Liverpool FC\n"
     ]
    },
    {
     "data": {
      "text/html": [
       "<img src=\"https://upload.wikimedia.org/wikipedia/en/0/0c/Liverpool_FC.svg\" width=\"100\" height=\"100\"/>"
      ],
      "text/plain": [
       "<IPython.core.display.Image object>"
      ]
     },
     "metadata": {},
     "output_type": "display_data"
    },
    {
     "name": "stdout",
     "output_type": "stream",
     "text": [
      "    Played games = 34\n",
      "    Won = 30\n",
      "    Draw = 2\n",
      "    Lost = 2\n",
      "    Points = 92\n",
      "    Goals for = 75\n",
      "    Goals against = 26\n",
      "    Goal difference = 49\n",
      "\n",
      "\n",
      "2) Manchester City FC\n"
     ]
    },
    {
     "data": {
      "text/html": [
       "<img src=\"https://upload.wikimedia.org/wikipedia/en/e/eb/Manchester_City_FC_badge.svg\" width=\"100\" height=\"100\"/>"
      ],
      "text/plain": [
       "<IPython.core.display.Image object>"
      ]
     },
     "metadata": {},
     "output_type": "display_data"
    },
    {
     "name": "stdout",
     "output_type": "stream",
     "text": [
      "    Played games = 34\n",
      "    Won = 22\n",
      "    Draw = 3\n",
      "    Lost = 9\n",
      "    Points = 69\n",
      "    Goals for = 86\n",
      "    Goals against = 34\n",
      "    Goal difference = 52\n",
      "\n",
      "\n",
      "3) Chelsea FC\n"
     ]
    },
    {
     "data": {
      "text/html": [
       "<img src=\"https://upload.wikimedia.org/wikipedia/en/c/cc/Chelsea_FC.svg\" width=\"100\" height=\"100\"/>"
      ],
      "text/plain": [
       "<IPython.core.display.Image object>"
      ]
     },
     "metadata": {},
     "output_type": "display_data"
    },
    {
     "name": "stdout",
     "output_type": "stream",
     "text": [
      "    Played games = 34\n",
      "    Won = 18\n",
      "    Draw = 6\n",
      "    Lost = 10\n",
      "    Points = 60\n",
      "    Goals for = 63\n",
      "    Goals against = 46\n",
      "    Goal difference = 17\n",
      "\n",
      "\n",
      "League name : Serie A\n",
      "-------------------------------\n",
      "1) Juventus FC\n"
     ]
    },
    {
     "data": {
      "text/html": [
       "<img src=\"https://upload.wikimedia.org/wikipedia/commons/1/15/Juventus_FC_2017_logo.svg\" width=\"100\" height=\"100\"/>"
      ],
      "text/plain": [
       "<IPython.core.display.Image object>"
      ]
     },
     "metadata": {},
     "output_type": "display_data"
    },
    {
     "name": "stdout",
     "output_type": "stream",
     "text": [
      "    Played games = 31\n",
      "    Won = 24\n",
      "    Draw = 3\n",
      "    Lost = 4\n",
      "    Points = 75\n",
      "    Goals for = 65\n",
      "    Goals against = 30\n",
      "    Goal difference = 35\n",
      "\n",
      "\n",
      "2) SS Lazio\n"
     ]
    },
    {
     "data": {
      "text/html": [
       "<img src=\"https://upload.wikimedia.org/wikipedia/de/4/47/Lazio_Rom.svg\" width=\"100\" height=\"100\"/>"
      ],
      "text/plain": [
       "<IPython.core.display.Image object>"
      ]
     },
     "metadata": {},
     "output_type": "display_data"
    },
    {
     "name": "stdout",
     "output_type": "stream",
     "text": [
      "    Played games = 31\n",
      "    Won = 21\n",
      "    Draw = 5\n",
      "    Lost = 5\n",
      "    Points = 68\n",
      "    Goals for = 67\n",
      "    Goals against = 33\n",
      "    Goal difference = 34\n",
      "\n",
      "\n",
      "3) Atalanta BC\n"
     ]
    },
    {
     "data": {
      "text/html": [
       "<img src=\"http://upload.wikimedia.org/wikipedia/de/2/28/Atalanta_BC.svg\" width=\"100\" height=\"100\"/>"
      ],
      "text/plain": [
       "<IPython.core.display.Image object>"
      ]
     },
     "metadata": {},
     "output_type": "display_data"
    },
    {
     "name": "stdout",
     "output_type": "stream",
     "text": [
      "    Played games = 31\n",
      "    Won = 20\n",
      "    Draw = 6\n",
      "    Lost = 5\n",
      "    Points = 66\n",
      "    Goals for = 85\n",
      "    Goals against = 39\n",
      "    Goal difference = 46\n",
      "\n",
      "\n",
      "League name : Primera Division\n",
      "-------------------------------\n",
      "1) Real Madrid CF\n"
     ]
    },
    {
     "data": {
      "text/html": [
       "<img src=\"http://upload.wikimedia.org/wikipedia/de/3/3f/Real_Madrid_Logo.svg\" width=\"100\" height=\"100\"/>"
      ],
      "text/plain": [
       "<IPython.core.display.Image object>"
      ]
     },
     "metadata": {},
     "output_type": "display_data"
    },
    {
     "name": "stdout",
     "output_type": "stream",
     "text": [
      "    Played games = 34\n",
      "    Won = 23\n",
      "    Draw = 8\n",
      "    Lost = 3\n",
      "    Points = 77\n",
      "    Goals for = 62\n",
      "    Goals against = 21\n",
      "    Goal difference = 41\n",
      "\n",
      "\n",
      "2) FC Barcelona\n"
     ]
    },
    {
     "data": {
      "text/html": [
       "<img src=\"http://upload.wikimedia.org/wikipedia/de/a/aa/Fc_barcelona.svg\" width=\"100\" height=\"100\"/>"
      ],
      "text/plain": [
       "<IPython.core.display.Image object>"
      ]
     },
     "metadata": {},
     "output_type": "display_data"
    },
    {
     "name": "stdout",
     "output_type": "stream",
     "text": [
      "    Played games = 35\n",
      "    Won = 23\n",
      "    Draw = 7\n",
      "    Lost = 5\n",
      "    Points = 76\n",
      "    Goals for = 79\n",
      "    Goals against = 36\n",
      "    Goal difference = 43\n",
      "\n",
      "\n",
      "3) Club Atlético de Madrid\n"
     ]
    },
    {
     "data": {
      "text/html": [
       "<img src=\"http://upload.wikimedia.org/wikipedia/de/c/c1/Atletico_Madrid_logo.svg\" width=\"100\" height=\"100\"/>"
      ],
      "text/plain": [
       "<IPython.core.display.Image object>"
      ]
     },
     "metadata": {},
     "output_type": "display_data"
    },
    {
     "name": "stdout",
     "output_type": "stream",
     "text": [
      "    Played games = 35\n",
      "    Won = 16\n",
      "    Draw = 15\n",
      "    Lost = 4\n",
      "    Points = 63\n",
      "    Goals for = 47\n",
      "    Goals against = 26\n",
      "    Goal difference = 21\n",
      "\n",
      "\n",
      "League name : Ligue 1\n",
      "-------------------------------\n",
      "1) Paris Saint-Germain FC\n"
     ]
    },
    {
     "data": {
      "text/html": [
       "<img src=\"https://upload.wikimedia.org/wikipedia/en/a/a7/Paris_Saint-Germain_F.C..svg\" width=\"100\" height=\"100\"/>"
      ],
      "text/plain": [
       "<IPython.core.display.Image object>"
      ]
     },
     "metadata": {},
     "output_type": "display_data"
    },
    {
     "name": "stdout",
     "output_type": "stream",
     "text": [
      "    Played games = 27\n",
      "    Won = 22\n",
      "    Draw = 2\n",
      "    Lost = 3\n",
      "    Points = 68\n",
      "    Goals for = 75\n",
      "    Goals against = 24\n",
      "    Goal difference = 51\n",
      "\n",
      "\n",
      "2) Olympique de Marseille\n"
     ]
    },
    {
     "data": {
      "text/html": [
       "<img src=\"https://upload.wikimedia.org/wikipedia/fr/thumb/4/43/Logo_Olympique_de_Marseille.svg/130px-Logo_Olympique_de_Marseille.svg.png\" width=\"100\" height=\"100\"/>"
      ],
      "text/plain": [
       "<IPython.core.display.Image object>"
      ]
     },
     "metadata": {},
     "output_type": "display_data"
    },
    {
     "name": "stdout",
     "output_type": "stream",
     "text": [
      "    Played games = 28\n",
      "    Won = 16\n",
      "    Draw = 8\n",
      "    Lost = 4\n",
      "    Points = 56\n",
      "    Goals for = 41\n",
      "    Goals against = 29\n",
      "    Goal difference = 12\n",
      "\n",
      "\n",
      "3) Stade Rennais FC 1901\n"
     ]
    },
    {
     "data": {
      "text/html": [
       "<img src=\"https://upload.wikimedia.org/wikipedia/fr/e/e9/Logo_Stade_Rennais_FC.svg\" width=\"100\" height=\"100\"/>"
      ],
      "text/plain": [
       "<IPython.core.display.Image object>"
      ]
     },
     "metadata": {},
     "output_type": "display_data"
    },
    {
     "name": "stdout",
     "output_type": "stream",
     "text": [
      "    Played games = 28\n",
      "    Won = 15\n",
      "    Draw = 5\n",
      "    Lost = 8\n",
      "    Points = 50\n",
      "    Goals for = 38\n",
      "    Goals against = 24\n",
      "    Goal difference = 14\n",
      "\n",
      "\n"
     ]
    }
   ],
   "source": [
    "# Get top 3 teams in each league\n",
    "top_3_teams_in_all_league()"
   ]
  },
  {
   "cell_type": "code",
   "execution_count": 27,
   "metadata": {
    "colab": {
     "base_uri": "https://localhost:8080/",
     "height": 342
    },
    "colab_type": "code",
    "id": "z6fFHQh3hxtR",
    "outputId": "81fca3a2-a4b4-4a60-9463-e501d17a6b42"
   },
   "outputs": [
    {
     "name": "stdout",
     "output_type": "stream",
     "text": [
      "League name : Premier League\n",
      "-------------------------------\n",
      "8) Arsenal FC\n"
     ]
    },
    {
     "data": {
      "text/html": [
       "<img src=\"https://upload.wikimedia.org/wikipedia/en/5/53/Arsenal_FC.svg\" width=\"100\" height=\"100\"/>"
      ],
      "text/plain": [
       "<IPython.core.display.Image object>"
      ]
     },
     "metadata": {},
     "output_type": "display_data"
    },
    {
     "name": "stdout",
     "output_type": "stream",
     "text": [
      "    Played games = 34\n",
      "    Won = 12\n",
      "    Draw = 14\n",
      "    Lost = 8\n",
      "    Points = 50\n",
      "    Goals for = 50\n",
      "    Goals against = 42\n",
      "    Goal difference = 8\n",
      "\n",
      "\n"
     ]
    }
   ],
   "source": [
    "# Get team standings info\n",
    "team_info('arsenal')"
   ]
  },
  {
   "cell_type": "code",
   "execution_count": 28,
   "metadata": {
    "colab": {
     "base_uri": "https://localhost:8080/",
     "height": 1000
    },
    "colab_type": "code",
    "id": "TWJpPP5mh6HY",
    "outputId": "4cade775-c5cf-4d6b-909c-4f13f31bbe9e"
   },
   "outputs": [
    {
     "name": "stdout",
     "output_type": "stream",
     "text": [
      "The top scorers in Serie A :\n",
      "---------------------------------\n",
      "1) Ciro Immobile\n",
      "   Team : SS Lazio\n",
      "   Position : Attacker\n",
      "   Nationality : Italy\n",
      "   Number of goals : 29\n",
      "\n",
      "2) Cristiano Ronaldo\n",
      "   Team : Juventus FC\n",
      "   Position : Attacker\n",
      "   Nationality : Portugal\n",
      "   Number of goals : 26\n",
      "\n",
      "3) Romelu Lukaku\n",
      "   Team : FC Internazionale Milano\n",
      "   Position : Attacker\n",
      "   Nationality : Belgium\n",
      "   Number of goals : 20\n",
      "\n",
      "4) Luis Muriel\n",
      "   Team : Atalanta BC\n",
      "   Position : Attacker\n",
      "   Nationality : Colombia\n",
      "   Number of goals : 17\n",
      "\n",
      "5) João Pedro Galvão\n",
      "   Team : Cagliari Calcio\n",
      "   Position : Midfielder\n",
      "   Nationality : Brazil\n",
      "   Number of goals : 17\n",
      "\n",
      "6) Francesco Caputo\n",
      "   Team : US Sassuolo Calcio\n",
      "   Position : Attacker\n",
      "   Nationality : Italy\n",
      "   Number of goals : 15\n",
      "\n",
      "7) Josip Iličić\n",
      "   Team : Atalanta BC\n",
      "   Position : Midfielder\n",
      "   Nationality : Slovenia\n",
      "   Number of goals : 15\n",
      "\n",
      "8) Edin Džeko\n",
      "   Team : AS Roma\n",
      "   Position : Attacker\n",
      "   Nationality : Bosnia and Herzegovina\n",
      "   Number of goals : 14\n",
      "\n",
      "9) Duván Zapata\n",
      "   Team : Atalanta BC\n",
      "   Position : Attacker\n",
      "   Nationality : Colombia\n",
      "   Number of goals : 14\n",
      "\n",
      "10) Andrea Belotti\n",
      "   Team : Torino FC\n",
      "   Position : Attacker\n",
      "   Nationality : Italy\n",
      "   Number of goals : 13\n",
      "\n"
     ]
    }
   ],
   "source": [
    "# Get top scorers in specific league\n",
    "get_top_scores_in_league('serie a')"
   ]
  },
  {
   "cell_type": "code",
   "execution_count": 29,
   "metadata": {
    "colab": {
     "base_uri": "https://localhost:8080/",
     "height": 1000
    },
    "colab_type": "code",
    "id": "4kJi7lyJiDj6",
    "outputId": "b20b2816-4558-4d95-aa85-b10cc57d39fa"
   },
   "outputs": [
    {
     "name": "stdout",
     "output_type": "stream",
     "text": [
      "The top 3 scorers in each league:\n",
      "\n",
      "League name : Bundesliga\n",
      "-------------------------------\n",
      "1) Robert Lewandowski\n",
      "   Team : FC Bayern München\n",
      "   Position : Attacker\n",
      "   Nationality : Poland\n",
      "   Number of goals : 34\n",
      "\n",
      "2) Timo Werner\n",
      "   Team : RB Leipzig\n",
      "   Position : Attacker\n",
      "   Nationality : Germany\n",
      "   Number of goals : 28\n",
      "\n",
      "3) Jadon Sancho\n",
      "   Team : BV Borussia 09 Dortmund\n",
      "   Position : Midfielder\n",
      "   Nationality : England\n",
      "   Number of goals : 17\n",
      "\n",
      "\n",
      "League name : Premier League\n",
      "-------------------------------\n",
      "1) Jamie Vardy\n",
      "   Team : Leicester City FC\n",
      "   Position : Attacker\n",
      "   Nationality : England\n",
      "   Number of goals : 22\n",
      "\n",
      "2) Pierre-Emerick Aubameyang\n",
      "   Team : Arsenal FC\n",
      "   Position : Attacker\n",
      "   Nationality : Gabon\n",
      "   Number of goals : 20\n",
      "\n",
      "3) Mohamed Salah\n",
      "   Team : Liverpool FC\n",
      "   Position : Attacker\n",
      "   Nationality : Egypt\n",
      "   Number of goals : 19\n",
      "\n",
      "\n",
      "League name : Serie A\n",
      "-------------------------------\n",
      "1) Ciro Immobile\n",
      "   Team : SS Lazio\n",
      "   Position : Attacker\n",
      "   Nationality : Italy\n",
      "   Number of goals : 29\n",
      "\n",
      "2) Cristiano Ronaldo\n",
      "   Team : Juventus FC\n",
      "   Position : Attacker\n",
      "   Nationality : Portugal\n",
      "   Number of goals : 26\n",
      "\n",
      "3) Romelu Lukaku\n",
      "   Team : FC Internazionale Milano\n",
      "   Position : Attacker\n",
      "   Nationality : Belgium\n",
      "   Number of goals : 20\n",
      "\n",
      "\n",
      "League name : Primera Division\n",
      "-------------------------------\n",
      "1) Lionel Messi\n",
      "   Team : FC Barcelona\n",
      "   Position : Attacker\n",
      "   Nationality : Argentina\n",
      "   Number of goals : 22\n",
      "\n",
      "2) Karim Benzema\n",
      "   Team : Real Madrid CF\n",
      "   Position : Attacker\n",
      "   Nationality : France\n",
      "   Number of goals : 17\n",
      "\n",
      "3) Gerard Moreno\n",
      "   Team : Villarreal CF\n",
      "   Position : Attacker\n",
      "   Nationality : Spain\n",
      "   Number of goals : 16\n",
      "\n",
      "\n",
      "League name : Ligue 1\n",
      "-------------------------------\n",
      "1) Kylian Mbappé\n",
      "   Team : Paris Saint-Germain FC\n",
      "   Position : Attacker\n",
      "   Nationality : France\n",
      "   Number of goals : 18\n",
      "\n",
      "2) Wissam Ben Yedder\n",
      "   Team : AS Monaco FC\n",
      "   Position : Attacker\n",
      "   Nationality : France\n",
      "   Number of goals : 18\n",
      "\n",
      "3) Moussa Dembélé\n",
      "   Team : Olympique Lyonnais\n",
      "   Position : Attacker\n",
      "   Nationality : France\n",
      "   Number of goals : 16\n",
      "\n",
      "\n"
     ]
    }
   ],
   "source": [
    "# Get top 3 scorers in each league\n",
    "get_top_3_scores_in_all_league()"
   ]
  },
  {
   "cell_type": "code",
   "execution_count": null,
   "metadata": {
    "colab": {},
    "colab_type": "code",
    "id": "Y32Ab2mxiNn_"
   },
   "outputs": [],
   "source": []
  }
 ],
 "metadata": {
  "colab": {
   "collapsed_sections": [],
   "name": "EuropeanSoccerLeagueStandingsAPI.ipynb",
   "provenance": []
  },
  "kernelspec": {
   "display_name": "Python 3",
   "language": "python",
   "name": "python3"
  },
  "language_info": {
   "codemirror_mode": {
    "name": "ipython",
    "version": 3
   },
   "file_extension": ".py",
   "mimetype": "text/x-python",
   "name": "python",
   "nbconvert_exporter": "python",
   "pygments_lexer": "ipython3",
   "version": "3.7.3"
  }
 },
 "nbformat": 4,
 "nbformat_minor": 1
}
